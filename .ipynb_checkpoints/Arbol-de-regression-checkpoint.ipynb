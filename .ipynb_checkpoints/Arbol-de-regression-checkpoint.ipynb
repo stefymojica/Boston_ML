{
 "cells": [
  {
   "cell_type": "code",
   "execution_count": null,
   "id": "61953bcb",
   "metadata": {},
   "outputs": [],
   "source": [
    "from sklearn.datasets import load_boston\n",
    "\n",
    "boston_dataset = load_boston()\n",
    "import pandas as pd\n",
    "df = pd.DataFrame(boston_dataset.data,columns=boston_dataset.feature_names)\n",
    "# Agregamos la variable de respuesta\n",
    "df['MEDV'] = boston_dataset.target[df.index]\n",
    "df.head()"
   ]
  }
 ],
 "metadata": {
  "kernelspec": {
   "display_name": "Python 3",
   "language": "python",
   "name": "python3"
  },
  "language_info": {
   "codemirror_mode": {
    "name": "ipython",
    "version": 3
   },
   "file_extension": ".py",
   "mimetype": "text/x-python",
   "name": "python",
   "nbconvert_exporter": "python",
   "pygments_lexer": "ipython3",
   "version": "3.8.8"
  }
 },
 "nbformat": 4,
 "nbformat_minor": 5
}
